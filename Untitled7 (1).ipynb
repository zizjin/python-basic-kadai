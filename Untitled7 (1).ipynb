{
  "cells": [
    {
      "cell_type": "code",
      "execution_count": 106,
      "metadata": {
        "colab": {
          "base_uri": "https://localhost:8080/"
        },
        "id": "f2a74B8it0yV",
        "outputId": "ba63c87f-c4bb-4a69-9a1e-2bd725840868"
      },
      "outputs": [
        {
          "name": "stdout",
          "output_type": "stream",
          "text": [
            "桑原さんは大人です。\n",
            "佐藤さんは大人ではありません。\n",
            "鈴木さんは大人です。\n"
          ]
        }
      ],
      "source": [
        "class human:\n",
        "    def __init__(self,name,age):\n",
        "        self.name=name\n",
        "        self.age =age\n",
        "    def check_adult   (self):\n",
        "     if self.age >= 20:\n",
        "        print(f\"{self.name}さんは大人です。\")\n",
        "     else:\n",
        "        print(f\"{self.name}さんは大人ではありません。\")\n",
        "\n",
        "human1= human(\"桑原\",20)\n",
        "human2= human(\"佐藤\",10)\n",
        "human3= human(\"鈴木\",30)\n",
        "\n",
        "\n",
        "humans_list=[human1,human2,human3]\n",
        "for human in humans_list:\n",
        "\n",
        "    human.check_adult()"
      ]
    }
  ],
  "metadata": {
    "colab": {
      "provenance": []
    },
    "kernelspec": {
      "display_name": "Python 3",
      "name": "python3"
    },
    "language_info": {
      "name": "python"
    }
  },
  "nbformat": 4,
  "nbformat_minor": 0
}
